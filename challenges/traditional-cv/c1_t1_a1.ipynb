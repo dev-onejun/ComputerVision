{
 "cells": [
  {
   "cell_type": "markdown",
   "id": "e572e750-2a7c-4442-a7ed-5afc224d8750",
   "metadata": {},
   "source": [
    "* KNN, Linear Regression, SVM\n",
    "* [Gaussian Naive Bayes](https://scikit-learn.org/stable/modules/generated/sklearn.naive_bayes.GaussianNB.html#sklearn.naive_bayes.GaussianNB)\n",
    "* [Decision Tree](https://scikit-learn.org/stable/modules/tree.html#classification)\n",
    "\n",
    "* [VotingClassifier](https://scikit-learn.org/stable/modules/ensemble.html#voting-classifier)\n",
    "    - https://scikit-learn.org/stable/modules/generated/sklearn.ensemble.VotingClassifier.html#sklearn.ensemble.VotingClassifier\n"
   ]
  },
  {
   "cell_type": "code",
   "execution_count": null,
   "id": "7a4248b4-7afd-445b-a2ec-7e0e1436df1e",
   "metadata": {},
   "outputs": [],
   "source": []
  }
 ],
 "metadata": {
  "kernelspec": {
   "display_name": "Python 3 (ipykernel)",
   "language": "python",
   "name": "python3"
  },
  "language_info": {
   "codemirror_mode": {
    "name": "ipython",
    "version": 3
   },
   "file_extension": ".py",
   "mimetype": "text/x-python",
   "name": "python",
   "nbconvert_exporter": "python",
   "pygments_lexer": "ipython3",
   "version": "3.11.0rc1"
  }
 },
 "nbformat": 4,
 "nbformat_minor": 5
}
